{
 "cells": [
  {
   "cell_type": "code",
   "execution_count": 1,
   "id": "f8c3e803-dc48-42fb-9c7d-dcf1c9fc95b9",
   "metadata": {},
   "outputs": [],
   "source": [
    "import numpy as np\n",
    "import pandas as pd\n",
    "import os"
   ]
  },
  {
   "cell_type": "code",
   "execution_count": 3,
   "id": "eac1e56d-3890-41d5-84f2-e13a3e48481b",
   "metadata": {},
   "outputs": [
    {
     "data": {
      "text/plain": [
       "(891, 12)"
      ]
     },
     "execution_count": 3,
     "metadata": {},
     "output_type": "execute_result"
    }
   ],
   "source": [
    "titanic_train=pd.read_csv(\"C:/Users/RIDVAN BEYAZ/Week3/train.csv\")\n",
    "titanic_train.shape"
   ]
  },
  {
   "cell_type": "code",
   "execution_count": null,
   "id": "9588da1f-3e52-416d-bb69-5adf91d0bd62",
   "metadata": {},
   "outputs": [],
   "source": []
  }
 ],
 "metadata": {
  "kernelspec": {
   "display_name": "Python 3 (ipykernel)",
   "language": "python",
   "name": "python3"
  },
  "language_info": {
   "codemirror_mode": {
    "name": "ipython",
    "version": 3
   },
   "file_extension": ".py",
   "mimetype": "text/x-python",
   "name": "python",
   "nbconvert_exporter": "python",
   "pygments_lexer": "ipython3",
   "version": "3.11.7"
  }
 },
 "nbformat": 4,
 "nbformat_minor": 5
}
